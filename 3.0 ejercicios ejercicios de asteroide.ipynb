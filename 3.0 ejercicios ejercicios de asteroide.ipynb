{
 "cells": [
  {
   "cell_type": "code",
   "execution_count": 20,
   "metadata": {},
   "outputs": [
    {
     "name": "stdout",
     "output_type": "stream",
     "text": [
      "advertencia de asteroide\n"
     ]
    }
   ],
   "source": [
    "a = 25 # velocida \n",
    "b = 49 #asteroide \n",
    "if b >= a:\n",
    "    print(\"advertencia de asteroide\")"
   ]
  },
  {
   "cell_type": "code",
   "execution_count": 43,
   "metadata": {},
   "outputs": [
    {
     "name": "stdout",
     "output_type": "stream",
     "text": [
      "asteroide viajando hacia la tierra a 19km/s\n"
     ]
    }
   ],
   "source": [
    "# velocidad de asteroirde mayor igual a 20 km/s \n",
    "a = 19 # asteroide que viaja actualemnte hacia la tierra a 19 km/s\n",
    "b = 20 # rayo de luz desde la tierra.\n",
    "if a < b:\n",
    "    print(\"asteroide viajando hacia la tierra a 19km/s\")\n",
    "elif a > b:\n",
    "    print(\"mundo busque señales de luz de asteroide cercano viajando a 20km/s\") \n",
    "elif a == b:\n",
    "    print(\"luz de asteroide cercana\")         \n",
    "else:\n",
    "    print(\"no pasa nada \")\n",
    "\n"
   ]
  },
  {
   "cell_type": "code",
   "execution_count": 85,
   "metadata": {},
   "outputs": [
    {
     "name": "stdout",
     "output_type": "stream",
     "text": [
      "alerta a la gente, !resguardese!\n"
     ]
    }
   ],
   "source": [
    "v0 = 25 # 25km/s advertencia seguridad\n",
    "v1 = 20 # 20km/s produce rayo de luz \n",
    "tamaño_asteroide1 = 25\n",
    "if v1 == 20 and tamaño_asteroide1 == 25:\n",
    "    print(\"sin peligro !busca rayo de luz!\")\n",
    "elif v1 > 20:\n",
    "    print(\"alerta a la gente, !resguardese!\")\n",
    "elif tamaño_asteroide1 < 25:\n",
    "    print(\"no pasa nada\")\n",
    "\n",
    "\n",
    "    \n",
    "\n",
    "\n",
    "\n",
    "\n"
   ]
  }
 ],
 "metadata": {
  "interpreter": {
   "hash": "bef758b8ba98b4d2897991d9bc01bc7d9c18601a36b9719956f10ba943325f5f"
  },
  "kernelspec": {
   "display_name": "Python 3.10.2 64-bit (windows store)",
   "language": "python",
   "name": "python3"
  },
  "language_info": {
   "codemirror_mode": {
    "name": "ipython",
    "version": 3
   },
   "file_extension": ".py",
   "mimetype": "text/x-python",
   "name": "python",
   "nbconvert_exporter": "python",
   "pygments_lexer": "ipython3",
   "version": "3.10.2"
  },
  "orig_nbformat": 4
 },
 "nbformat": 4,
 "nbformat_minor": 2
}
