{
 "cells": [
  {
   "cell_type": "code",
   "execution_count": 13,
   "metadata": {},
   "outputs": [],
   "source": [
    "planetas = ['tierra', 'jupiter', 'saturno','urano', 'neptuno' 'mercurio', 'venus', 'marte'e]"
   ]
  },
  {
   "cell_type": "code",
   "execution_count": 15,
   "metadata": {},
   "outputs": [
    {
     "name": "stdout",
     "output_type": "stream",
     "text": [
      "en la realidad 9 planeta en el sistema solar.\n"
     ]
    }
   ],
   "source": [
    "planetas.append('pluto') #agregar planeta \n",
    "numero_de_planeta = len(planetas)\n",
    "print('en la realidad',  numero_de_planeta, 'planeta en el sistema solar.')"
   ]
  },
  {
   "cell_type": "code",
   "execution_count": 17,
   "metadata": {},
   "outputs": [
    {
     "name": "stdout",
     "output_type": "stream",
     "text": [
      "tierra\n"
     ]
    }
   ],
   "source": [
    "usar_planeta = input('por favor ingresa el nombre del planeta con mayusculas')\n",
    "print(usar_planeta)"
   ]
  },
  {
   "cell_type": "code",
   "execution_count": 18,
   "metadata": {},
   "outputs": [
    {
     "name": "stdout",
     "output_type": "stream",
     "text": [
      "saturno es el 2\n"
     ]
    }
   ],
   "source": [
    "planetas_index = planetas.index('saturno')\n",
    "print('saturno es el', planetas_index)"
   ]
  },
  {
   "cell_type": "code",
   "execution_count": 20,
   "metadata": {},
   "outputs": [
    {
     "name": "stdout",
     "output_type": "stream",
     "text": [
      "planetas mas sercano al sol tierra\n",
      "['tierra', 'jupiter']\n"
     ]
    }
   ],
   "source": [
    "print ('planetas mas sercano al sol '  + usar_planeta)\n",
    "print (planetas[0:planetas_index])\n"
   ]
  },
  {
   "cell_type": "code",
   "execution_count": 21,
   "metadata": {},
   "outputs": [
    {
     "name": "stdout",
     "output_type": "stream",
     "text": [
      "planetas mas lejano  tierra\n",
      "['urano', 'neptunomercurio', 'venus', 'marte', 'pluto', 'pluto']\n"
     ]
    }
   ],
   "source": [
    "print ('planetas mas lejano  '  + usar_planeta)\n",
    "print (planetas[planetas_index + 1:])"
   ]
  }
 ],
 "metadata": {
  "interpreter": {
   "hash": "bef758b8ba98b4d2897991d9bc01bc7d9c18601a36b9719956f10ba943325f5f"
  },
  "kernelspec": {
   "display_name": "Python 3.10.2 64-bit (windows store)",
   "language": "python",
   "name": "python3"
  },
  "language_info": {
   "codemirror_mode": {
    "name": "ipython",
    "version": 3
   },
   "file_extension": ".py",
   "mimetype": "text/x-python",
   "name": "python",
   "nbconvert_exporter": "python",
   "pygments_lexer": "ipython3",
   "version": "3.10.2"
  },
  "orig_nbformat": 4
 },
 "nbformat": 4,
 "nbformat_minor": 2
}
