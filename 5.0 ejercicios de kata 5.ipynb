{
 "cells": [
  {
   "cell_type": "code",
   "execution_count": 23,
   "metadata": {},
   "outputs": [
    {
     "name": "stdout",
     "output_type": "stream",
     "text": [
      "-628949.33\n"
     ]
    }
   ],
   "source": [
    "distancia_de_la_tierra = 149597.870 # km\n",
    "distancia_de_jupiter = 778547.200  #km\n",
    "print (float(distancia_de_la_tierra) - float(distancia_de_jupiter))"
   ]
  },
  {
   "cell_type": "code",
   "execution_count": 34,
   "metadata": {},
   "outputs": [
    {
     "name": "stdout",
     "output_type": "stream",
     "text": [
      "-628949.33\n",
      "-390577.53393\n"
     ]
    }
   ],
   "source": [
    "distancia_de_la_tierra = 149597.870 # km\n",
    "distancia_de_jupiter = 778547.200  #km\n",
    "distancia_inicial = (float(distancia_de_la_tierra) - float(distancia_de_jupiter))\n",
    "distancia_final = (distancia_inicial) * (0.621)\n",
    "print(distancia_inicial)\n",
    "print (distancia_final)"
   ]
  },
  {
   "cell_type": "code",
   "execution_count": 36,
   "metadata": {},
   "outputs": [
    {
     "name": "stdout",
     "output_type": "stream",
     "text": [
      "distancia de dos planetas con respecto al sol\n",
      "-629000000\n",
      "-390609000.0\n"
     ]
    }
   ],
   "source": [
    "print('distancia de dos planetas con respecto al sol')\n",
    "distancia_de_priemr_planeta = input (\"distancia 1 \")\n",
    "distancia_de_segundo_planeta = input (\"distancia 2\")\n",
    "# para convertir se puede usar tambien \n",
    "# distancia_de_primer_planeta = int(distancia_de_primer_planeta)\n",
    "# distancia_de_segundo_planeta = int(distancia_de_segundo_planeta)\n",
    "resultado = (int(distancia_de_priemr_planeta) - int(distancia_de_segundo_planeta))\n",
    "print(resultado)\n",
    "distancia_en_millas = (resultado) * 0.621\n",
    "print(distancia_en_millas)"
   ]
  }
 ],
 "metadata": {
  "interpreter": {
   "hash": "bef758b8ba98b4d2897991d9bc01bc7d9c18601a36b9719956f10ba943325f5f"
  },
  "kernelspec": {
   "display_name": "Python 3.10.2 64-bit (windows store)",
   "language": "python",
   "name": "python3"
  },
  "language_info": {
   "codemirror_mode": {
    "name": "ipython",
    "version": 3
   },
   "file_extension": ".py",
   "mimetype": "text/x-python",
   "name": "python",
   "nbconvert_exporter": "python",
   "pygments_lexer": "ipython3",
   "version": "3.10.2"
  },
  "orig_nbformat": 4
 },
 "nbformat": 4,
 "nbformat_minor": 2
}
