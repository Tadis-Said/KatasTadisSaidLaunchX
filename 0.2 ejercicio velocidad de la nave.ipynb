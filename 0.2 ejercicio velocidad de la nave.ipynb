{
 "cells": [
  {
   "cell_type": "markdown",
   "metadata": {},
   "source": [
    "## velocidad de la nave \n",
    "Muestrame los seundos necesarios para pasar de 0 a 11200 metros por segundo, dada la aceleración de la nave en metros por segundo."
   ]
  },
  {
   "cell_type": "code",
   "execution_count": 1,
   "metadata": {},
   "outputs": [
    {
     "name": "stdout",
     "output_type": "stream",
     "text": [
      "Tiempo para alcanzar la velocidad deseada = 277777.77777777775\n"
     ]
    }
   ],
   "source": [
    "endVelocity = 500000\n",
    "startVelocity = 0\n",
    "acceleration = 1.8\n",
    "\n",
    "time = (endVelocity - startVelocity) / acceleration \n",
    "print(\"Tiempo para alcanzar la velocidad deseada =\", time)"
   ]
  }
 ],
 "metadata": {
  "interpreter": {
   "hash": "b9560f59b95afa2ce2608b9f6ec71a89614dec99768d794c652b1e0d6f6e221d"
  },
  "kernelspec": {
   "display_name": "Python 3.10.2 64-bit",
   "language": "python",
   "name": "python3"
  },
  "language_info": {
   "codemirror_mode": {
    "name": "ipython",
    "version": 3
   },
   "file_extension": ".py",
   "mimetype": "text/x-python",
   "name": "python",
   "nbconvert_exporter": "python",
   "pygments_lexer": "ipython3",
   "version": "3.10.2"
  },
  "orig_nbformat": 4
 },
 "nbformat": 4,
 "nbformat_minor": 2
}
