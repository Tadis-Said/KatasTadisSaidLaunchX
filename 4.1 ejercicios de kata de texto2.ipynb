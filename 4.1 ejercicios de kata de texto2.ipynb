{
 "cells": [
  {
   "cell_type": "code",
   "execution_count": null,
   "metadata": {},
   "outputs": [],
   "source": [
    "# Gravity facts Ganymede\n",
    "--------------------------------------------------------------\n",
    "# Planet Name: Mars\n",
    "# Gravity on Ganymede: 1.4300000000000002 m/s2\n",
    "\n",
    "# Datos con los que se trabaja."
   ]
  },
  {
   "cell_type": "code",
   "execution_count": null,
   "metadata": {},
   "outputs": [],
   "source": [
    "name = 'Moon'\n",
    "gravity = 0.00162 # kms \n",
    "planet = 'Earth'\n",
    "\n",
    "# crear texto \n",
    "title = f'datos de gravedad sobre {name}'\n"
   ]
  },
  {
   "cell_type": "code",
   "execution_count": 17,
   "metadata": {},
   "outputs": [
    {
     "name": "stdout",
     "output_type": "stream",
     "text": [
      "--------------------------------------------------------------------------------\n",
      "Nombre del planeta: Earth\n",
      "Gravedad en Moon: 1.6199999999999999 m/s2\n",
      "\n"
     ]
    }
   ],
   "source": [
    "  # Ahora crea una plantilla de cadena multilínea para contener el \n",
    "  # resto de la información. En lugar de usar kilómetros, debes convertir la \n",
    "  # distancia a metros multiplicando por 1,000.\n",
    "\n",
    "# Creamos la plantilla\n",
    "hechos = f\"\"\"{'-'*80}\n",
    "Nombre del planeta: {planet}\n",
    "Gravedad en {name}: {gravity * 1000} m/s2\n",
    "\"\"\"\n",
    "print(hechos)"
   ]
  },
  {
   "cell_type": "code",
   "execution_count": 16,
   "metadata": {},
   "outputs": [
    {
     "name": "stdout",
     "output_type": "stream",
     "text": [
      "--------------------------------------------------------------------------------\n",
      "Nombre del planeta: Earth\n",
      "Gravedad en Moon: 1.6199999999999999 m/s2\n",
      "\n"
     ]
    }
   ],
   "source": [
    "# union de ambas cadenas \n",
    "template = f\"\"\"{ title.title()}\n",
    "{hechos}\n",
    "\"\"\"\n",
    "print (hechos)"
   ]
  },
  {
   "cell_type": "code",
   "execution_count": 18,
   "metadata": {},
   "outputs": [
    {
     "name": "stdout",
     "output_type": "stream",
     "text": [
      "--------------------------------------------------------------------------------\n",
      "Nombre del planeta: Earth\n",
      "Gravedad en Moon: 1.6199999999999999 m/s2\n",
      "\n"
     ]
    }
   ],
   "source": [
    "# nuevos datos de muetra \n",
    "planeta = 'Marte'\n",
    "gravedad = 0.00143\n",
    "nombre = 'ganimedes'\n",
    "\n",
    "print (hechos)\n",
    "\n"
   ]
  },
  {
   "cell_type": "code",
   "execution_count": 20,
   "metadata": {},
   "outputs": [
    {
     "name": "stdout",
     "output_type": "stream",
     "text": [
      "\n",
      "Nombre del planeta: Marte\n",
      "Gravedad en ganimedes: 0.00143 m/s2 \n",
      "\n"
     ]
    }
   ],
   "source": [
    "title = f'datos de gravedad sobre {nombre}'\n",
    "nuevo = f\"\"\"\n",
    "Nombre del planeta: {planeta}\n",
    "Gravedad en {nombre}: {gravedad} m/s2 \n",
    "\"\"\"\n",
    "print(nuevo.format(nombre=nombre, planeta=planeta, gravedad=gravedad))\n"
   ]
  }
 ],
 "metadata": {
  "interpreter": {
   "hash": "bef758b8ba98b4d2897991d9bc01bc7d9c18601a36b9719956f10ba943325f5f"
  },
  "kernelspec": {
   "display_name": "Python 3.10.2 64-bit (windows store)",
   "language": "python",
   "name": "python3"
  },
  "language_info": {
   "codemirror_mode": {
    "name": "ipython",
    "version": 3
   },
   "file_extension": ".py",
   "mimetype": "text/x-python",
   "name": "python",
   "nbconvert_exporter": "python",
   "pygments_lexer": "ipython3",
   "version": "3.10.2"
  },
  "orig_nbformat": 4
 },
 "nbformat": 4,
 "nbformat_minor": 2
}
