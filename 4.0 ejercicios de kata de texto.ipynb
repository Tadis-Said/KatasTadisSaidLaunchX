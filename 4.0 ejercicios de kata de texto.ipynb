{
 "cells": [
  {
   "cell_type": "code",
   "execution_count": 34,
   "metadata": {},
   "outputs": [
    {
     "data": {
      "text/plain": [
       "[' interesting facts about the Moon is Earth´s only satellite',\n",
       " 'There are several interesrt On average, the Moon moves 4 cm away from the Earth every year, This yearly drift is not significant enough']"
      ]
     },
     "execution_count": 34,
     "metadata": {},
     "output_type": "execute_result"
    }
   ],
   "source": [
    "text = \"\"\" interesting facts about the Moon is Earth´s only satellite. There are several interesrt On average, the Moon moves 4 cm away from the Earth every year, This yearly drift is not significant enough\"\"\"\n",
    "\n",
    "#dividir texto \n",
    "text_parts = text.split('. ')\n",
    "text_parts\n"
   ]
  },
  {
   "cell_type": "code",
   "execution_count": 35,
   "metadata": {},
   "outputs": [],
   "source": [
    "text = \"\"\"interesting facts about the Moon is Earth´s only satellite',\n",
    " 'There are several interesrt On average, the Moon moves 4 cm away from the \n",
    " Earth every year, This yearly drift is not significant enough\"\"\"\n",
    "\n",
    "# palabra clave para busqueda qye ayudan adeterminar si una horacion contiene un hecho.\n",
    "key_words = [\"average\", \"temperature\", \"distance\"]"
   ]
  },
  {
   "cell_type": "code",
   "execution_count": 36,
   "metadata": {},
   "outputs": [
    {
     "name": "stdout",
     "output_type": "stream",
     "text": [
      "There are several interesrt On average, the Moon moves 4 cm away from the Earth every year, This yearly drift is not significant enough\n"
     ]
    }
   ],
   "source": [
    "# ciclo for para recorrer la cadena \n",
    "# crea un bucle para imprimir solo datos\n",
    "# sobre la luna que esten relacionados con las definids anteriormente \n",
    "for sentence in text_parts:\n",
    "    for key_words in key_words:\n",
    "        if key_words in sentence:\n",
    "            print(sentence)\n",
    "            break "
   ]
  },
  {
   "cell_type": "code",
   "execution_count": 37,
   "metadata": {},
   "outputs": [
    {
     "name": "stdout",
     "output_type": "stream",
     "text": [
      "There are several interesrt On average, the Moon moves 4 cm away from the Earth every year, This yearly drift is not significant enough\n"
     ]
    }
   ],
   "source": [
    "# ciclo para cambiar de C a celcius.\n",
    "\n",
    "for sentence in text_parts:\n",
    "    for key_words in key_words:\n",
    "        if key_words in sentence:\n",
    "            print(sentence.replace(' C', 'Celsius'))\n",
    "            break"
   ]
  }
 ],
 "metadata": {
  "interpreter": {
   "hash": "bef758b8ba98b4d2897991d9bc01bc7d9c18601a36b9719956f10ba943325f5f"
  },
  "kernelspec": {
   "display_name": "Python 3.10.2 64-bit (windows store)",
   "language": "python",
   "name": "python3"
  },
  "language_info": {
   "codemirror_mode": {
    "name": "ipython",
    "version": 3
   },
   "file_extension": ".py",
   "mimetype": "text/x-python",
   "name": "python",
   "nbconvert_exporter": "python",
   "pygments_lexer": "ipython3",
   "version": "3.10.2"
  },
  "orig_nbformat": 4
 },
 "nbformat": 4,
 "nbformat_minor": 2
}
